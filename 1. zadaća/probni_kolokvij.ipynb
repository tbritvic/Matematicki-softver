{
 "cells": [
  {
   "cell_type": "code",
   "execution_count": 7,
   "metadata": {
    "collapsed": false
   },
   "outputs": [
    {
     "data": {
      "text/plain": [
       "[1, 100, 10000, 1000000, 100000000]"
      ]
     },
     "execution_count": 7,
     "metadata": {},
     "output_type": "execute_result"
    }
   ],
   "source": [
    "#zad1\n",
    "#q = [r**2 for r in [10**i for i in range(5)]]\n",
    "q=[]\n",
    "for i in range(5):\n",
    "    q1=1\n",
    "    for r in range(i):\n",
    "        r = 10**i\n",
    "        q1 = r**2\n",
    "    q.append(q1)\n",
    "q"
   ]
  },
  {
   "cell_type": "code",
   "execution_count": 4,
   "metadata": {
    "collapsed": false
   },
   "outputs": [
    {
     "name": "stdout",
     "output_type": "stream",
     "text": [
      "[ 0.7125401   0.60609884  0.31628626  0.18019528  0.38936869  0.17981246\n",
      "  0.47236997  0.38300542  0.5485048   0.20755918]\n",
      "Ima  1 brojeva izmedju 0.5 i 0.6\n"
     ]
    }
   ],
   "source": [
    "#zad2 \n",
    "import numpy as np\n",
    "from fractions import Fraction\n",
    "from random import random\n",
    "def rand_array(N):\n",
    "    s = np.random.rand(N)\n",
    "    #s = np.random.uniform(0,1,N)\n",
    "    print(s)\n",
    "    M = 0\n",
    "    for i in s:\n",
    "        if i >= 0.5 and i <= 0.6:\n",
    "            M+=1\n",
    "    print 'Ima {0:2d} brojeva izmedju 0.5 i 0.6'.format(M)\n",
    "    return Fraction(M,N)\n",
    "a = rand_array(10)"
   ]
  },
  {
   "cell_type": "code",
   "execution_count": 14,
   "metadata": {
    "collapsed": false,
    "scrolled": true
   },
   "outputs": [
    {
     "name": "stdout",
     "output_type": "stream",
     "text": [
      "0.001\n",
      "y(0.0)\t= 1.000000 \t error:    0\n",
      "y(1.0)\t= 1.562500 \t error: 1.45722e-07\n",
      "y(2.0)\t= 3.999999 \t error: 9.19479e-07\n",
      "y(3.0)\t= 10.562497 \t error: 2.90956e-06\n",
      "y(4.0)\t= 24.999994 \t error: 6.23491e-06\n",
      "y(5.0)\t= 52.562489 \t error: 1.08197e-05\n",
      "y(6.0)\t= 99.999983 \t error: 1.65946e-05\n",
      "y(7.0)\t= 175.562476 \t error: 2.35177e-05\n",
      "y(8.0)\t= 288.999968 \t error: 3.15652e-05\n",
      "y(9.0)\t= 451.562459 \t error: 4.07232e-05\n",
      "y(10.0)\t= 675.999949 \t error: 5.09833e-05\n"
     ]
    }
   ],
   "source": [
    "#zad3\n",
    "from sympy import *\n",
    "from sympy import init_printing\n",
    "init_printing()\n",
    "from IPython.display import display\n",
    "from ipywidgets import interact, fixed, interact_manual\n",
    "import ipywidgets as widgets\n",
    "\n",
    "epsilon = Symbol(\"epsilon\")\n",
    "epsilon = 10**(-3)\n",
    "print(epsilon)\n",
    "def RK4(f):\n",
    "    return lambda t, y, dt: (\n",
    "            lambda dy1: (\n",
    "            lambda dy2: (\n",
    "            lambda dy3: (\n",
    "            lambda dy4: (dy1 + 2*dy2 + 2*dy3 + dy4)/6\n",
    "            )( dt * f( t + dt  , y + dy3   ) )\n",
    "            )( dt * f( t + dt/2, y + dy2/2 ) )\n",
    "            )( dt * f( t + dt/2, y + dy1/2 ) )\n",
    "            )( dt * f( t       , y         ) )\n",
    " \n",
    "def theory(t): \n",
    "    return (t**2 + 4)**2 /16\n",
    " \n",
    "from math import sqrt\n",
    "dy = RK4(lambda t, y: t*sqrt(y))\n",
    " \n",
    "t, y, dt = 0., 1., .1\n",
    "while t <= 10:\n",
    "    if abs(round(t) - t) < 1e-5:\n",
    "        print(\"y(%2.1f)\\t= %4.6f \\t error: %4.6g\" % ( t, y, abs(y - theory(t))))\n",
    "    t, y = t + dt, y + dy( t, y, dt )"
   ]
  },
  {
   "cell_type": "code",
   "execution_count": 19,
   "metadata": {
    "collapsed": false
   },
   "outputs": [
    {
     "data": {
      "image/png": "[encoded data removed]",
      "text/latex": [
       "$$mi$$"
      ],
      "text/plain": [
       "mi"
      ]
     },
     "execution_count": 19,
     "metadata": {},
     "output_type": "execute_result"
    }
   ],
   "source": [
    "#zad4 \n",
    "lambd = Symbol(\"mi\")\n",
    "lambd"
   ]
  },
  {
   "cell_type": "code",
   "execution_count": null,
   "metadata": {
    "collapsed": true
   },
   "outputs": [],
   "source": []
  }
 ],
 "metadata": {
  "kernelspec": {
   "display_name": "Python 2 (SageMath)",
   "language": "python",
   "name": "python2"
  },
  "language_info": {
   "codemirror_mode": {
    "name": "ipython",
    "version": 2
   },
   "file_extension": ".py",
   "mimetype": "text/x-python",
   "name": "python",
   "nbconvert_exporter": "python",
   "pygments_lexer": "ipython2",
   "version": "2.7.13"
  }
 },
 "nbformat": 4,
 "nbformat_minor": 0
}
